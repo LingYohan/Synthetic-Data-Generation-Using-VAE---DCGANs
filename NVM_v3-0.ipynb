{
 "cells": [
  {
   "cell_type": "code",
   "execution_count": null,
   "metadata": {
    "colab": {
     "base_uri": "https://localhost:8080/"
    },
    "id": "V8XpL606Udrp",
    "outputId": "4b17be4d-6212-4caf-8849-861dd0269399"
   },
   "outputs": [
    {
     "name": "stdout",
     "output_type": "stream",
     "text": [
      "Mounted at /content/drive/\n"
     ]
    }
   ],
   "source": []
  },
  {
   "cell_type": "code",
   "execution_count": 2,
   "metadata": {
    "id": "QVZiPmcZZsQ3"
   },
   "outputs": [],
   "source": [
    "import os\n",
    "import cv2\n",
    "import torch\n",
    "import torchvision\n",
    "import torch.nn as nn\n",
    "import numpy as np\n",
    "import torch.nn.functional as F\n",
    "import torch.optim as optim \n",
    "from torchvision.datasets import ImageFolder\n",
    "from torch.utils.data import DataLoader\n",
    "import torchvision.transforms as tt\n",
    "from torch.utils.data import random_split\n",
    "from torchvision.utils import make_grid\n",
    "import torchvision.utils as vutils\n",
    "from torchvision.transforms import ToTensor, Normalize, Compose\n",
    "import matplotlib\n",
    "import matplotlib.pyplot as plt\n",
    "from PIL import Image\n",
    "from matplotlib import image as img\n",
    "import matplotlib.animation as animation\n",
    "from IPython.display import HTML"
   ]
  },
  {
   "cell_type": "code",
   "execution_count": 1,
   "metadata": {
    "id": "FUguvnf3biMq"
   },
   "outputs": [],
   "source": [
    "train_path = 'C:/Users/Gaurav/Documents/Shaurya_project/simple_chairs'"
   ]
  },
  {
   "cell_type": "code",
   "execution_count": null,
   "metadata": {
    "colab": {
     "base_uri": "https://localhost:8080/"
    },
    "id": "SLXQ_Y9FgUrQ",
    "outputId": "0e877804-05bb-4c64-ae1f-acb8716a89fe"
   },
   "outputs": [
    {
     "name": "stdout",
     "output_type": "stream",
     "text": [
      "1\n"
     ]
    }
   ],
   "source": [
    "print(len(os.listdir(train_path)))\n"
   ]
  },
  {
   "cell_type": "code",
   "execution_count": null,
   "metadata": {
    "colab": {
     "base_uri": "https://localhost:8080/"
    },
    "id": "cbfVKsrf6gQ0",
    "outputId": "dc73ab89-4a83-4d1b-f876-f0697f07cfa6"
   },
   "outputs": [
    {
     "data": {
      "text/plain": [
       "device(type='cuda')"
      ]
     },
     "execution_count": 39,
     "metadata": {},
     "output_type": "execute_result"
    }
   ],
   "source": [
    "# Number of workers for dataloader\n",
    "workers = 2\n",
    "\n",
    "# Batch size during training\n",
    "batch_size = 50\n",
    "\n",
    "# Spatial size of training images. All images will be resized to this\n",
    "#   size using a transformer.\n",
    "image_size = 64\n",
    "\n",
    "# Number of channels in the training images. For color images this is 3\n",
    "nc = 3\n",
    "\n",
    "# Size of z latent vector (i.e. size of generator input)\n",
    "nz = 100\n",
    "\n",
    "# Size of feature maps in generator\n",
    "ngf = 64\n",
    "\n",
    "# Size of feature maps in discriminator\n",
    "ndf = 64\n",
    "\n",
    "# Number of training epochs\n",
    "num_epochs = 5\n",
    "\n",
    "# Learning rate for optimizers\n",
    "lr = 0.0002\n",
    "\n",
    "# Beta1 hyperparam for Adam optimizers\n",
    "beta1 = 0.5\n",
    "\n",
    "# Number of GPUs available. Use 0 for CPU mode.\n",
    "ngpu = 1\n",
    "\n",
    "device = torch.device('cuda' if torch.cuda.is_available() else 'cpu')\n",
    "device"
   ]
  },
  {
   "cell_type": "code",
   "execution_count": null,
   "metadata": {
    "id": "qeIDBLZjbqH7"
   },
   "outputs": [],
   "source": [
    "train_ds = ImageFolder(train_path, transform = tt.Compose([\n",
    "    tt.Resize(image_size),\n",
    "    tt.CenterCrop(image_size),\n",
    "    tt.ToTensor(),\n",
    "    tt.Normalize((0.5, 0.5, 0.5), (0.5, 0.5, 0.5)),\n",
    "]))"
   ]
  },
  {
   "cell_type": "code",
   "execution_count": null,
   "metadata": {
    "colab": {
     "base_uri": "https://localhost:8080/"
    },
    "id": "PPef508lBOno",
    "outputId": "f6a0d474-4e6b-4247-9991-fd80a8ece021"
   },
   "outputs": [
    {
     "name": "stdout",
     "output_type": "stream",
     "text": [
      "Total number of images: 5165\n",
      "torch.Size([3, 64, 64])\n",
      "Label: 0\n",
      "tensor([[[ 0.9843,  0.9843,  0.9922,  0.9922,  0.9922],\n",
      "         [ 0.3176,  0.3176,  0.3412,  0.3412,  0.3412],\n",
      "         [-0.3412, -0.3569, -0.3255, -0.3333, -0.3333],\n",
      "         [-0.4431, -0.4431, -0.4431, -0.4588, -0.4588],\n",
      "         [ 0.0980,  0.1059,  0.0824,  0.0745,  0.0745]],\n",
      "\n",
      "        [[ 0.9765,  0.9765,  0.9686,  0.9686,  0.9686],\n",
      "         [ 0.2471,  0.2392,  0.2549,  0.2471,  0.2471],\n",
      "         [-0.6000, -0.6157, -0.6235, -0.6392, -0.6392],\n",
      "         [-0.6706, -0.6706, -0.6627, -0.6706, -0.6706],\n",
      "         [-0.0196, -0.0039,  0.0118,  0.0118,  0.0118]],\n",
      "\n",
      "        [[ 0.9451,  0.9451,  0.9451,  0.9451,  0.9451],\n",
      "         [ 0.1765,  0.1765,  0.1922,  0.1922,  0.1922],\n",
      "         [-0.7490, -0.7569, -0.7569, -0.7647, -0.7647],\n",
      "         [-0.7882, -0.7882, -0.7804, -0.7961, -0.7961],\n",
      "         [-0.0902, -0.0824, -0.0824, -0.0824, -0.0824]]])\n"
     ]
    },
    {
     "data": {
      "text/plain": [
       "(tensor(-0.9294), tensor(1.))"
      ]
     },
     "execution_count": 41,
     "metadata": {},
     "output_type": "execute_result"
    }
   ],
   "source": [
    "print('Total number of images:', len(train_ds))\n",
    "image, label = train_ds[500]\n",
    "print(image.shape)\n",
    "print('Label:', label)\n",
    "print(image[:, 30:35, 30:35])\n",
    "torch.min(image), torch.max(image)"
   ]
  },
  {
   "cell_type": "code",
   "execution_count": null,
   "metadata": {
    "id": "TKQlzVUVklAS"
   },
   "outputs": [],
   "source": [
    "train_dl  = DataLoader(train_ds, batch_size, shuffle = True, num_workers = workers)"
   ]
  },
  {
   "cell_type": "code",
   "execution_count": null,
   "metadata": {
    "colab": {
     "base_uri": "https://localhost:8080/"
    },
    "id": "w9bq9L_5mS5k",
    "outputId": "64aa7812-4af7-4d11-9ffb-b341e60d74dc"
   },
   "outputs": [
    {
     "name": "stdout",
     "output_type": "stream",
     "text": [
      "torch.Size([50, 3, 64, 64])\n",
      "tensor([0, 0, 0, 0, 0, 0, 0, 0, 0, 0, 0, 0, 0, 0, 0, 0, 0, 0, 0, 0, 0, 0, 0, 0,\n",
      "        0, 0, 0, 0, 0, 0, 0, 0, 0, 0, 0, 0, 0, 0, 0, 0, 0, 0, 0, 0, 0, 0, 0, 0,\n",
      "        0, 0])\n"
     ]
    }
   ],
   "source": [
    "for images, labels in train_dl:\n",
    "  print(images.shape)\n",
    "  print(labels)\n",
    "  break"
   ]
  },
  {
   "cell_type": "markdown",
   "metadata": {
    "id": "xtVn6BSH9Ti3"
   },
   "source": []
  },
  {
   "cell_type": "markdown",
   "metadata": {
    "id": "PVreVazN9oRg"
   },
   "source": [
    "#Weight Initialization \n",
    "The authors of the DCGAN paper specify that all model weights shall be randomly initialized from a normal distribution with mean = 0 and std = 0.02.\n",
    "This function is applied immediatly after initialization."
   ]
  },
  {
   "cell_type": "markdown",
   "metadata": {
    "id": "IGJM0WIPBJ-h"
   },
   "source": []
  },
  {
   "cell_type": "code",
   "execution_count": null,
   "metadata": {
    "id": "Jly9bS6cwNo0"
   },
   "outputs": [],
   "source": [
    "def weights_init(m):\n",
    "    classname = m.__class__.__name__\n",
    "    if classname.find('Conv') != -1:\n",
    "        nn.init.normal_(m.weight.data, 0.0, 0.02)\n",
    "    elif classname.find('BatchNorm') != -1:\n",
    "        nn.init.normal_(m.weight.data, 1.0, 0.02)\n",
    "        nn.init.constant_(m.bias.data, 0)"
   ]
  },
  {
   "cell_type": "markdown",
   "metadata": {
    "id": "tysOzM4l-jnB"
   },
   "source": [
    "#Generator \n",
    "This module is designed to convert latent space vector z into a data-space bearing the same dimensions as our training data.\n",
    "Its implementation is achieved through a series of strided 2D convolutional transpose layers each of which bearing a 2D batch norm layer and relu activation. The output of the generator is fed through the tanh function to return it to the input data range of [-1,1]\n",
    "\n",
    "![DCGAN.png](data:image/png;base64,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)"
   ]
  },
  {
   "cell_type": "code",
   "execution_count": null,
   "metadata": {
    "id": "vZdlmr0wwZ4-"
   },
   "outputs": [],
   "source": [
    "# Generator Code\n",
    "\n",
    "class Generator(nn.Module):\n",
    "    def __init__(self):\n",
    "        super(Generator, self).__init__()\n",
    "        self.main = nn.Sequential(\n",
    "            # input is latent vector Z, going into a convolution\n",
    "            nn.ConvTranspose2d( nz, ngf * 8, 4, 1, 0, bias=False),\n",
    "            nn.BatchNorm2d(ngf * 8),\n",
    "            nn.ReLU(True),\n",
    "            # state size. (ngf*8) x 4 x 4\n",
    "            nn.ConvTranspose2d(ngf * 8, ngf * 4, 4, 2, 1, bias=False),\n",
    "            nn.BatchNorm2d(ngf * 4),\n",
    "            nn.ReLU(True),\n",
    "            # state size. (ngf*4) x 8 x 8\n",
    "            nn.ConvTranspose2d( ngf * 4, ngf * 2, 4, 2, 1, bias=False),\n",
    "            nn.BatchNorm2d(ngf * 2),\n",
    "            nn.ReLU(True),\n",
    "            # state size. (ngf*2) x 16 x 16\n",
    "            nn.ConvTranspose2d( ngf * 2, ngf, 4, 2, 1, bias=False),\n",
    "            nn.BatchNorm2d(ngf),\n",
    "            nn.ReLU(True),\n",
    "            # state size. (ngf) x 32 x 32\n",
    "            nn.ConvTranspose2d( ngf, nc, 4, 2, 1, bias=False),\n",
    "            nn.Tanh()\n",
    "            # state size. (nc) x 64 x 64\n",
    "        )\n",
    "\n",
    "    def forward(self, input):\n",
    "        return self.main(input)"
   ]
  },
  {
   "cell_type": "code",
   "execution_count": null,
   "metadata": {
    "id": "6rW2K3B9J33J"
   },
   "outputs": [],
   "source": [
    "y = Generator().to(device)\n",
    "y.apply(weights_init)\n",
    "\n",
    "gen_imgs = y(torch.randn(100, nz, 1, 1, device = device))"
   ]
  },
  {
   "cell_type": "code",
   "execution_count": null,
   "metadata": {
    "colab": {
     "base_uri": "https://localhost:8080/"
    },
    "id": "qqwrxWjLQYFJ",
    "outputId": "c7e2e261-9f29-4c5a-8903-50e8659eb9f0"
   },
   "outputs": [
    {
     "name": "stdout",
     "output_type": "stream",
     "text": [
      "104\n"
     ]
    }
   ],
   "source": [
    "def denorm(x):\n",
    "    out = (x + 1) / 2\n",
    "    return out.clamp(0, 1)\n",
    "\n",
    "print(len(train_dl))"
   ]
  },
  {
   "cell_type": "code",
   "execution_count": null,
   "metadata": {
    "colab": {
     "base_uri": "https://localhost:8080/"
    },
    "id": "0NZx8wzfPizP",
    "outputId": "f6bca912-d6a5-417f-e28a-52ad12b10b70"
   },
   "outputs": [
    {
     "name": "stdout",
     "output_type": "stream",
     "text": [
      "torch.Size([100, 3, 64, 64])\n",
      "torch.Size([3, 64, 64])\n",
      "tensor([[[-0.0172,  0.1042, -0.0167,  ...,  0.1513,  0.0308,  0.0389],\n",
      "         [-0.0041,  0.0684, -0.1590,  ...,  0.0015, -0.0305,  0.0822],\n",
      "         [ 0.0479, -0.0040,  0.0270,  ...,  0.1464, -0.0885,  0.0597],\n",
      "         ...,\n",
      "         [-0.0326, -0.0543, -0.0240,  ..., -0.1121, -0.0370,  0.0855],\n",
      "         [ 0.0435,  0.0153,  0.2291,  ...,  0.1174, -0.0759,  0.0025],\n",
      "         [-0.0090, -0.0301,  0.0106,  ..., -0.0692,  0.0361, -0.0030]],\n",
      "\n",
      "        [[-0.0100,  0.0016, -0.0301,  ...,  0.0172, -0.0615,  0.0092],\n",
      "         [-0.0053, -0.1532,  0.0411,  ..., -0.1978, -0.0033, -0.1633],\n",
      "         [-0.0392,  0.1196, -0.0345,  ...,  0.0122, -0.1106, -0.0015],\n",
      "         ...,\n",
      "         [ 0.0009, -0.0942,  0.2301,  ..., -0.0047,  0.1041,  0.0152],\n",
      "         [-0.0425,  0.0539, -0.0938,  ..., -0.0305, -0.1249, -0.0398],\n",
      "         [-0.0250, -0.0624, -0.0652,  ..., -0.0321, -0.0283,  0.0067]],\n",
      "\n",
      "        [[-0.0113, -0.0200, -0.0786,  ...,  0.0241, -0.0212,  0.0301],\n",
      "         [ 0.0029, -0.0142,  0.0582,  ..., -0.1802,  0.1508,  0.0652],\n",
      "         [-0.0577,  0.0295,  0.0368,  ...,  0.0046,  0.0405, -0.0024],\n",
      "         ...,\n",
      "         [-0.0553, -0.0878,  0.0376,  ..., -0.0816,  0.0169,  0.0443],\n",
      "         [-0.0774,  0.0998, -0.0935,  ...,  0.1229,  0.0985,  0.0409],\n",
      "         [-0.0397,  0.0676, -0.0522,  ...,  0.0374, -0.0962,  0.0343]]],\n",
      "       device='cuda:0', grad_fn=<SelectBackward0>)\n"
     ]
    }
   ],
   "source": [
    "print(gen_imgs.shape)\n",
    "print(gen_imgs[0].shape)\n",
    "print(gen_imgs[0])"
   ]
  },
  {
   "cell_type": "code",
   "execution_count": null,
   "metadata": {
    "colab": {
     "base_uri": "https://localhost:8080/",
     "height": 303
    },
    "id": "dUQ0GvqvgxOp",
    "outputId": "94e7a975-4258-4418-c7d4-a760acbe00fe"
   },
   "outputs": [
    {
     "name": "stderr",
     "output_type": "stream",
     "text": [
      "WARNING:matplotlib.image:Clipping input data to the valid range for imshow with RGB data ([0..1] for floats or [0..255] for integers).\n"
     ]
    },
    {
     "data": {
      "text/plain": [
       "<matplotlib.image.AxesImage at 0x7f668c1b33a0>"
      ]
     },
     "execution_count": 49,
     "metadata": {},
     "output_type": "execute_result"
    },
    {
     "data": {
      "image/png": "[encoded data removed]",
      "text/plain": [
       "<Figure size 432x288 with 1 Axes>"
      ]
     },
     "metadata": {
      "needs_background": "light"
     },
     "output_type": "display_data"
    }
   ],
   "source": [
    "# displaying the normalized image\n",
    "\n",
    "plt.imshow(gen_imgs[0].detach().cpu().permute(1,2,0))"
   ]
  },
  {
   "cell_type": "code",
   "execution_count": null,
   "metadata": {
    "colab": {
     "base_uri": "https://localhost:8080/"
    },
    "id": "vkygRHeRSGbj",
    "outputId": "bd668cd0-6d02-49db-cab1-312ea6088236"
   },
   "outputs": [
    {
     "name": "stdout",
     "output_type": "stream",
     "text": [
      "torch.Size([100, 3, 64, 64])\n",
      "torch.Size([3, 64, 64])\n",
      "tensor([[[0.4914, 0.5521, 0.4917,  ..., 0.5757, 0.5154, 0.5194],\n",
      "         [0.4979, 0.5342, 0.4205,  ..., 0.5008, 0.4848, 0.5411],\n",
      "         [0.5240, 0.4980, 0.5135,  ..., 0.5732, 0.4557, 0.5299],\n",
      "         ...,\n",
      "         [0.4837, 0.4728, 0.4880,  ..., 0.4439, 0.4815, 0.5428],\n",
      "         [0.5218, 0.5076, 0.6145,  ..., 0.5587, 0.4620, 0.5012],\n",
      "         [0.4955, 0.4850, 0.5053,  ..., 0.4654, 0.5181, 0.4985]],\n",
      "\n",
      "        [[0.4950, 0.5008, 0.4849,  ..., 0.5086, 0.4693, 0.5046],\n",
      "         [0.4973, 0.4234, 0.5205,  ..., 0.4011, 0.4984, 0.4183],\n",
      "         [0.4804, 0.5598, 0.4827,  ..., 0.5061, 0.4447, 0.4992],\n",
      "         ...,\n",
      "         [0.5005, 0.4529, 0.6150,  ..., 0.4976, 0.5520, 0.5076],\n",
      "         [0.4787, 0.5269, 0.4531,  ..., 0.4847, 0.4376, 0.4801],\n",
      "         [0.4875, 0.4688, 0.4674,  ..., 0.4840, 0.4858, 0.5034]],\n",
      "\n",
      "        [[0.4943, 0.4900, 0.4607,  ..., 0.5121, 0.4894, 0.5150],\n",
      "         [0.5014, 0.4929, 0.5291,  ..., 0.4099, 0.5754, 0.5326],\n",
      "         [0.4711, 0.5148, 0.5184,  ..., 0.5023, 0.5203, 0.4988],\n",
      "         ...,\n",
      "         [0.4723, 0.4561, 0.5188,  ..., 0.4592, 0.5085, 0.5221],\n",
      "         [0.4613, 0.5499, 0.4532,  ..., 0.5614, 0.5493, 0.5205],\n",
      "         [0.4802, 0.5338, 0.4739,  ..., 0.5187, 0.4519, 0.5171]]])\n"
     ]
    }
   ],
   "source": [
    "from PIL import Image\n",
    "norm_images = denorm(gen_imgs.detach().cpu())\n",
    "print(norm_images.shape)\n",
    "print(norm_images[0].shape)\n",
    "print(norm_images[0])"
   ]
  },
  {
   "cell_type": "code",
   "execution_count": null,
   "metadata": {
    "colab": {
     "base_uri": "https://localhost:8080/",
     "height": 285
    },
    "id": "iiALFTStecHa",
    "outputId": "8ac967d2-7f97-4c1f-ea67-37fe44d1f140"
   },
   "outputs": [
    {
     "data": {
      "text/plain": [
       "<matplotlib.image.AxesImage at 0x7f668c07fee0>"
      ]
     },
     "execution_count": 51,
     "metadata": {},
     "output_type": "execute_result"
    },
    {
     "data": {
      "image/png": "[encoded data removed]",
      "text/plain": [
       "<Figure size 432x288 with 1 Axes>"
      ]
     },
     "metadata": {
      "needs_background": "light"
     },
     "output_type": "display_data"
    }
   ],
   "source": [
    "#displaying the de-normalized image\n",
    "\n",
    "plt.imshow(norm_images[0].permute(1,2,0))"
   ]
  },
  {
   "cell_type": "code",
   "execution_count": null,
   "metadata": {
    "colab": {
     "base_uri": "https://localhost:8080/"
    },
    "id": "k6UT3GqJAvfm",
    "outputId": "7f3dd24f-a229-4ec1-b870-4a0fd83036c3"
   },
   "outputs": [
    {
     "name": "stdout",
     "output_type": "stream",
     "text": [
      "Generator(\n",
      "  (main): Sequential(\n",
      "    (0): ConvTranspose2d(100, 512, kernel_size=(4, 4), stride=(1, 1), bias=False)\n",
      "    (1): BatchNorm2d(512, eps=1e-05, momentum=0.1, affine=True, track_running_stats=True)\n",
      "    (2): ReLU(inplace=True)\n",
      "    (3): ConvTranspose2d(512, 256, kernel_size=(4, 4), stride=(2, 2), padding=(1, 1), bias=False)\n",
      "    (4): BatchNorm2d(256, eps=1e-05, momentum=0.1, affine=True, track_running_stats=True)\n",
      "    (5): ReLU(inplace=True)\n",
      "    (6): ConvTranspose2d(256, 128, kernel_size=(4, 4), stride=(2, 2), padding=(1, 1), bias=False)\n",
      "    (7): BatchNorm2d(128, eps=1e-05, momentum=0.1, affine=True, track_running_stats=True)\n",
      "    (8): ReLU(inplace=True)\n",
      "    (9): ConvTranspose2d(128, 64, kernel_size=(4, 4), stride=(2, 2), padding=(1, 1), bias=False)\n",
      "    (10): BatchNorm2d(64, eps=1e-05, momentum=0.1, affine=True, track_running_stats=True)\n",
      "    (11): ReLU(inplace=True)\n",
      "    (12): ConvTranspose2d(64, 3, kernel_size=(4, 4), stride=(2, 2), padding=(1, 1), bias=False)\n",
      "    (13): Tanh()\n",
      "  )\n",
      ")\n"
     ]
    }
   ],
   "source": [
    "# creating the generator model \n",
    "netG = Generator().to(device)\n",
    "\n",
    "# Apply the weights_init function to randomly initialize all weights\n",
    "#  to mean=0, stdev=0.02.\n",
    "netG.apply(weights_init)\n",
    "\n",
    "#printing the model\n",
    "print(netG)"
   ]
  },
  {
   "cell_type": "markdown",
   "metadata": {
    "id": "1ULICDnsF7FI"
   },
   "source": [
    "#Discriminator \n"
   ]
  },
  {
   "cell_type": "code",
   "execution_count": null,
   "metadata": {
    "id": "XEC5_qM3CC39"
   },
   "outputs": [],
   "source": [
    "class Discriminator(nn.Module):\n",
    "    def __init__(self):\n",
    "        super(Discriminator, self).__init__()\n",
    "    \n",
    "        self.main = nn.Sequential(\n",
    "            # input is (nc) x 64 x 64\n",
    "            nn.Conv2d(nc, ndf, 4, 2, 1, bias=False),\n",
    "            nn.LeakyReLU(0.2, inplace=True),\n",
    "            # state size. (ndf) x 32 x 32\n",
    "            nn.Conv2d(ndf, ndf * 2, 4, 2, 1, bias=False),\n",
    "            nn.BatchNorm2d(ndf * 2),\n",
    "            nn.LeakyReLU(0.2, inplace=True),\n",
    "            # state size. (ndf*2) x 16 x 16\n",
    "            nn.Conv2d(ndf * 2, ndf * 4, 4, 2, 1, bias=False),\n",
    "            nn.BatchNorm2d(ndf * 4),\n",
    "            nn.LeakyReLU(0.2, inplace=True),\n",
    "            # state size. (ndf*4) x 8 x 8\n",
    "            nn.Conv2d(ndf * 4, ndf * 8, 4, 2, 1, bias=False),\n",
    "            nn.BatchNorm2d(ndf * 8),\n",
    "            nn.LeakyReLU(0.2, inplace=True),\n",
    "            # state size. (ndf*8) x 4 x 4\n",
    "            nn.Conv2d(ndf * 8, 1, 4, 1, 0, bias=False),\n",
    "            nn.Sigmoid()\n",
    "        )\n",
    "\n",
    "    def forward(self, input):\n",
    "        return self.main(input)"
   ]
  },
  {
   "cell_type": "code",
   "execution_count": null,
   "metadata": {
    "id": "EL6WpPINEqa7"
   },
   "outputs": [],
   "source": [
    "# Create the Discriminator model.\n",
    "netD = Discriminator().to(device)\n",
    "\n",
    "# Apply the weights_init function to randomly initialize all weights\n",
    "#  to mean=0, stdev=0.2.\n",
    "netD.apply(weights_init)\n",
    "\n",
    "# Print the model\n",
    "print(netD)"
   ]
  },
  {
   "cell_type": "markdown",
   "metadata": {
    "id": "BLQRG_BTuc5u"
   },
   "source": [
    "Loss functions and optimizers: \n",
    "We use Binary Cross Entropy Loss. \n",
    "We use adam optimizer. \n"
   ]
  },
  {
   "cell_type": "code",
   "execution_count": null,
   "metadata": {
    "id": "ZF6cxoIsFEIS"
   },
   "outputs": [],
   "source": [
    "# Initialize BCELoss function\n",
    "criterion = nn.BCELoss()\n",
    "\n",
    "# Create batch of latent vectors that we will use to visualize\n",
    "#  the progression of the generator\n",
    "fixed_noise = torch.randn(64, nz, 1, 1, device=device)\n",
    "\n",
    "# Establish convention for real and fake labels during training\n",
    "real_label = 1.\n",
    "fake_label = 0.\n",
    "\n",
    "# Setup Adam optimizers for both G and D\n",
    "optimizerD = optim.Adam(netD.parameters(), lr=lr, betas=(beta1, 0.999))\n",
    "optimizerG = optim.Adam(netG.parameters(), lr=lr, betas=(beta1, 0.999)) "
   ]
  },
  {
   "cell_type": "code",
   "execution_count": null,
   "metadata": {
    "id": "ESIsiTnhl1Yn"
   },
   "outputs": [],
   "source": [
    "''' Training Functions'''\n",
    "\n",
    "def reset_grad():\n",
    "    optimizerD.zero_grad()\n",
    "    optimizerG.zero_grad()\n",
    "\n",
    "def train_discriminator(images):\n",
    "    # Create the labels which are later used as input for the BCE loss\n",
    "    real_labels = torch.ones(batch_size, 1).to(device)\n",
    "    fake_labels = torch.zeros(batch_size, 1).to(device)\n",
    "        \n",
    "    # Loss for real images\n",
    "    outputs = netD(images).view(-1)\n",
    "    d_loss_real = criterion(outputs, real_labels)\n",
    "    real_score = outputs\n",
    "\n",
    "    # Loss for fake images\n",
    "    z = torch.randn(batch_size, nz).to(device)\n",
    "    fake_images = netG(z)\n",
    "    outputs = netD(fake_images).view(-1)\n",
    "    d_loss_fake = criterion(outputs, fake_labels)\n",
    "    fake_score = outputs\n",
    "\n",
    "    # Combine losses\n",
    "    d_loss = d_loss_real + d_loss_fake\n",
    "    # Reset gradients\n",
    "    reset_grad()\n",
    "    # Compute gradients\n",
    "    d_loss.backward()\n",
    "    # Adjust the parameters using backprop\n",
    "    optimizerD.step()\n",
    "    \n",
    "    return d_loss, real_score, fake_score\n",
    "\n",
    "def train_generator():\n",
    "    # Generate fake images and calculate loss\n",
    "    z = torch.randn(batch_size, nz).to(device)\n",
    "    fake_images = netG(z)\n",
    "    labels = torch.ones(batch_size, 1).to(device)\n",
    "    g_loss = criterion(netD(fake_images), labels)\n",
    "\n",
    "    # Backprop and optimize\n",
    "    reset_grad()\n",
    "    g_loss.backward()\n",
    "    optimizerG.step()\n",
    "    return g_loss, fake_images"
   ]
  },
  {
   "cell_type": "code",
   "execution_count": null,
   "metadata": {
    "id": "xVp9I54IrKib"
   },
   "outputs": [],
   "source": [
    "# this is where we save the intermediate outputs from the generator\n",
    "sample_dir = 'samples'\n",
    "if not os.path.exists(sample_dir):\n",
    "    os.makedirs(sample_dir)"
   ]
  },
  {
   "cell_type": "code",
   "execution_count": null,
   "metadata": {
    "id": "xyQJ4UInl8Wj"
   },
   "outputs": [],
   "source": [
    "\n",
    "# Save some real images\n",
    "real_batch = next(iter(train_dl))\n",
    "plt.figure(figsize = (8, 8))\n",
    "plt.axis(\"off\")\n",
    "plt.title(\"Training Images\")\n",
    "plt.imshow(np.transpose(vutils.make_grid(real_batch[0].to(device)[:50], padding=2, normalize=True).cpu(),(1,2,0)))\n",
    "\n",
    "plt.savefig('samples/real_images.png')\n",
    "\n",
    "\n"
   ]
  },
  {
   "cell_type": "code",
   "execution_count": null,
   "metadata": {
    "id": "cH8UiYHFisrH"
   },
   "outputs": [],
   "source": [
    "from IPython.display import Image\n",
    "from torchvision.utils import save_image\n",
    "\n",
    "def save_fake_images(index):\n",
    "  fake_images = netG(fixed_noise)\n",
    "  fake_name = 'fake_images-{0:0=4d}.png'.format(index)\n",
    "  plt.figure(figsize = (8, 8))\n",
    "  plt.axis(\"off\")\n",
    "  plt.title(fake_name)\n",
    "  images = plt.imshow(np.transpose(vutils.make_grid(fake_images.to(device)[:64], padding=2, normalize=True).cpu(),(1,2,0)))\n",
    "  plt.savefig('samples/{}'.format(fake_name))\n",
    "  print('saved', fake_name)\n",
    "  plt.close()\n",
    "\n",
    "save_fake_images(0)\n",
    "Image(os.path.join(sample_dir, 'fake_images-0000.png'))\n"
   ]
  },
  {
   "cell_type": "markdown",
   "metadata": {
    "id": "Wx22QPWbwU2l"
   },
   "source": [
    "Training the Discriminator:\n",
    "The goal here is to maximize the probablity of correctly classified inputs as real or fake.\n",
    "\n",
    "Training the Generator:\n",
    "We want to train the generator such that we minimise the log(1-D(G(z)) so we generate better fakes."
   ]
  },
  {
   "cell_type": "code",
   "execution_count": null,
   "metadata": {
    "id": "HbVw87FxmX0K"
   },
   "outputs": [],
   "source": [
    "test_criterion = nn.BCELoss()\n",
    "\n",
    "testD = Discriminator().to(device)\n",
    "testD.apply(weights_init)\n",
    "testG = Generator().to(device)\n",
    "testG.apply(weights_init)\n",
    "\n",
    "testOD = optim.Adam(testD.parameters(), lr=0.0002, betas=(beta1, 0.999))\n",
    "testOG = optim.Adam(testG.parameters(), lr=0.0002, betas=(beta1, 0.999)) \n",
    "\n",
    "test_epoch = 5\n",
    "\n",
    "print()"
   ]
  },
  {
   "cell_type": "code",
   "execution_count": null,
   "metadata": {
    "id": "nnxSd6xXqPhJ"
   },
   "outputs": [],
   "source": [
    "# for i, data in enumerate(train_dl, 0):\n",
    "#     images = data[0].to(device)\n",
    "#     b_size = images.size(0)\n",
    "#     label = torch.full((b_size,), real_label, dtype=torch.float, device=device)\n",
    "#     output = testD(images).view(-1)\n",
    "#     print(b_size, label)\n",
    "#     print(output)\n",
    "#     break\n",
    "# len(train_dl)"
   ]
  },
  {
   "cell_type": "code",
   "execution_count": null,
   "metadata": {
    "id": "J6a9sEol2EKg"
   },
   "outputs": [],
   "source": [
    "total_step = len(train_dl)\n",
    "d_losses, g_losses, img_list = [], [], []\n",
    "iters = 0\n",
    "\n",
    "print(\"STARTING TRAINING LOOP....\")\n",
    "\n",
    "for epoch in range(test_epoch):\n",
    "  for i, data in enumerate(train_dl, 0):\n",
    "    ##############################################\n",
    "    # Updating the Discriminator network. \n",
    "    # We aim to maximise the discriminator loss [log(D(x)) + log(1-log(D(G(z)))]\n",
    "    #############################################\n",
    "    ## training with the real batch\n",
    "    testD.zero_grad()\n",
    "    #format the batch\n",
    "    images = data[0].to(device)\n",
    "    b_size = images.size(0)\n",
    "    label = torch.full((b_size,), real_label, dtype=torch.float, device=device)\n",
    "    # Forward pass the real batch through the discriminator\n",
    "    output = testD(images).view(-1)\n",
    "    # Calculate loss on the real batch\n",
    "    errD_real = test_criterion(output, label)\n",
    "    # Calculate the gradients for Disciminator in backward pass\n",
    "    errD_real.backward()\n",
    "    D_x = output.mean().item()\n",
    "    \n",
    "    ## training with the fake batch\n",
    "    # Generate batch of latent vectors\n",
    "    noise = torch.rand(b_size, nz, 1, 1, device = device)\n",
    "    # Generate fake image batch.\n",
    "    fake = testG(noise)\n",
    "    label.fill_(fake_label)\n",
    "    # Classify the fake batch with the discriminator\n",
    "    output = testD(fake.detach()).view(-1)\n",
    "    # Calculate the discriminator loss on the fake batch\n",
    "    errD_fake = test_criterion(output, label)\n",
    "    # Calculate the gradients for this batch, summed with the previous gradients.\n",
    "    errD_fake.backward()\n",
    "    D_G_z1 = output.mean().item()\n",
    "\n",
    "    # Compute the error of the discriminator as the sum over fake and real batches.\n",
    "    errD = errD_real + errD_fake\n",
    "    # Update model parameters of the discriminator\n",
    "    testOD.step()\n",
    "\n",
    "    ##############################################\n",
    "    # Updating the Generator Network \n",
    "    # We aim to maximise the Generator Loss [log(D(G(z)))]\n",
    "    #############################################\n",
    "\n",
    "    testG.zero_grad()\n",
    "    label.fill_(real_label) # Fake labels are real for Generator cost.\n",
    "    # Since we just updated D, perform another forward pass of the fake batch\n",
    "    # through the discriminator.\n",
    "\n",
    "    output = testD(fake).view(-1)\n",
    "    # Calculate the generators loss based on this output.\n",
    "    errG = test_criterion(output, label) \n",
    "    # The loss is calculated based on how many times the generated outputs have\n",
    "    # been classified as real i.e. how well the generator is fooling the discriminator\n",
    "\n",
    "    # calculate the gradients for the generator\n",
    "    errG.backward()\n",
    "    D_G_z2 = output.mean().item()\n",
    "    # update the generator model parameters\n",
    "    testOG.step()\n",
    "\n",
    "    #output training stats\n",
    "    if i % 10 == 0:\n",
    "            print('[%d/%d][%d/%d]\\tLoss_D: %.4f\\tLoss_G: %.4f\\tD(x): %.4f\\tD(G(z)): %.4f / %.4f'\n",
    "                  % (epoch+1, test_epoch, i, len(train_dl),\n",
    "                     errD.item(), errG.item(), D_x, D_G_z1, D_G_z2))\n",
    "    \n",
    "    # saving the losses to plot later\n",
    "    g_losses.append(errG.item())\n",
    "    d_losses.append(errD.item())\n",
    "\n",
    "    # Check how the generator is doing by saving G's output on fixed_noise\n",
    "    if (iters % 10 == 0) or ((epoch == test_epoch-1) and (i == len(train_dl)-1)):\n",
    "        with torch.no_grad():\n",
    "            fake = testG(fixed_noise).detach().cpu()\n",
    "        img_list.append(vutils.make_grid(fake, padding=2, normalize=True))\n",
    "\n",
    "    iters+=1\n",
    "\n",
    "  \n",
    "\n",
    "\n",
    "  "
   ]
  },
  {
   "cell_type": "code",
   "execution_count": null,
   "metadata": {
    "id": "8Bfq1FWnzwG3"
   },
   "outputs": [],
   "source": [
    "# Save the model checkpoints \n",
    "torch.save(testG.state_dict(), 'testG.ckpt')\n",
    "torch.save(testD.state_dict(), 'testD.ckpt')"
   ]
  },
  {
   "cell_type": "code",
   "execution_count": null,
   "metadata": {
    "id": "LEDWo8pI12Yw"
   },
   "outputs": [],
   "source": [
    "# Loss vs training iteration.\n",
    "\n",
    "plt.figure(figsize=(10,5))\n",
    "plt.title(\"Generator and Discriminator Loss During Training\")\n",
    "plt.plot(g_losses,label=\"G\")\n",
    "plt.plot(d_losses,label=\"D\")\n",
    "plt.xlabel(\"iterations\")\n",
    "plt.ylabel(\"Loss\")\n",
    "plt.legend()\n",
    "plt.show()\n",
    "\n",
    "#Ideally the D and G losses should begin to converge on some permenant number"
   ]
  },
  {
   "cell_type": "code",
   "execution_count": null,
   "metadata": {
    "id": "yEk993A-2ahO"
   },
   "outputs": [],
   "source": [
    "fig = plt.figure(figsize=(8,8))\n",
    "plt.axis(\"off\")\n",
    "ims = [[plt.imshow(np.transpose(i,(1,2,0)), animated=True)] for i in img_list]\n",
    "ani = animation.ArtistAnimation(fig, ims, interval=1000, repeat_delay=1000, blit=True)\n",
    "\n",
    "HTML(ani.to_jshtml())"
   ]
  },
  {
   "cell_type": "code",
   "execution_count": null,
   "metadata": {
    "id": "ewdBBcnP3I8T"
   },
   "outputs": [],
   "source": [
    "# Grab a batch of real images from the dataloader\n",
    "real_batch = next(iter(train_dl))\n",
    "\n",
    "# Plot the real images\n",
    "plt.figure(figsize=(15,15))\n",
    "plt.subplot(1,2,1)\n",
    "plt.axis(\"off\")\n",
    "plt.title(\"Real Images\")\n",
    "plt.imshow(np.transpose(vutils.make_grid(real_batch[0].to(device)[:64], padding=5, normalize=True).cpu(),(1,2,0)))\n",
    "\n",
    "# Plot the fake images from the last epoch\n",
    "plt.subplot(1,2,2)\n",
    "plt.axis(\"off\")\n",
    "plt.title(\"Fake Images\")\n",
    "plt.imshow(np.transpose(img_list[-1],(1,2,0)))\n",
    "plt.show()"
   ]
  },
  {
   "cell_type": "code",
   "execution_count": null,
   "metadata": {
    "id": "elJg5moB-gtX"
   },
   "outputs": [],
   "source": []
  }
 ],
 "metadata": {
  "accelerator": "GPU",
  "colab": {
   "provenance": []
  },
  "gpuClass": "standard",
  "kernelspec": {
   "display_name": "Python 3 (ipykernel)",
   "language": "python",
   "name": "python3"
  },
  "language_info": {
   "codemirror_mode": {
    "name": "ipython",
    "version": 3
   },
   "file_extension": ".py",
   "mimetype": "text/x-python",
   "name": "python",
   "nbconvert_exporter": "python",
   "pygments_lexer": "ipython3",
   "version": "3.9.13"
  }
 },
 "nbformat": 4,
 "nbformat_minor": 1
}
