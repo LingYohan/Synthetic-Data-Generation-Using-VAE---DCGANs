{
 "cells": [
  {
   "cell_type": "code",
   "execution_count": 1,
   "metadata": {
    "colab": {
     "base_uri": "https://localhost:8080/"
    },
    "id": "fDpcWPPJzwTX",
    "outputId": "2da0f89d-9c5d-4d11-93b7-fbfd92c52484"
   },
   "outputs": [
    {
     "name": "stdout",
     "output_type": "stream",
     "text": [
      "Mounted at /content/drive/\n"
     ]
    }
   ],
   "source": [
    "# from google.colab import drive\n",
    "# drive.mount('/content/drive/')"
   ]
  },
  {
   "cell_type": "code",
   "execution_count": 13,
   "metadata": {
    "id": "Y76emk590Jsi"
   },
   "outputs": [],
   "source": [
    "from PIL import Image\n",
    "import numpy as np\n",
    "import matplotlib.pyplot as plt\n",
    "import pandas as pd\n",
    "import torch\n",
    "import torchvision\n",
    "import torch.nn as nn\n",
    "import torch.nn.functional as F\n",
    "import matplotlib.pyplot as plt\n",
    "import torch.optim as optim\n",
    "import torchvision.transforms as transforms\n",
    "from torchvision.transforms import ToTensor, Normalize, Compose\n",
    "from torchvision.datasets import ImageFolder\n",
    "from torch.utils.data import Dataset\n",
    "from torch.utils.data import DataLoader\n",
    "from torchvision.utils import make_grid\n",
    "import torchvision.utils as vutils\n",
    "import glob as glob\n",
    "from tqdm import tqdm\n",
    "import os\n",
    "import cv2\n",
    "import matplotlib\n"
   ]
  },
  {
   "cell_type": "code",
   "execution_count": 14,
   "metadata": {
    "colab": {
     "base_uri": "https://localhost:8080/"
    },
    "id": "0jsOSQsB0KOY",
    "outputId": "2d419d68-c140-40e0-e903-b10e0a513db5"
   },
   "outputs": [
    {
     "name": "stdout",
     "output_type": "stream",
     "text": [
      "599\n"
     ]
    }
   ],
   "source": [
    "ROOT_PATH = 'C:/Users/Gaurav/Documents/Shaurya_project/simple_chairs'\n",
    "print(len(os.listdir(ROOT_PATH)))"
   ]
  },
  {
   "cell_type": "code",
   "execution_count": 15,
   "metadata": {
    "id": "kcdP0ZYD0KcW"
   },
   "outputs": [],
   "source": [
    "# Helper function to prepare the data from the Image Folders.\n",
    "\n",
    "def prepare_dataset(ROOT_PATH):\n",
    "    image_dirs = os.listdir(ROOT_PATH)\n",
    "    image_dirs.sort()\n",
    "    print(len(image_dirs))\n",
    "    print(image_dirs[:5])\n",
    "\n",
    "    all_image_paths = []\n",
    "\n",
    "    for i in tqdm(range(len(image_dirs))):\n",
    "        image_paths = glob.glob(f\"{ROOT_PATH}/{image_dirs[i]}/*\")\n",
    "        image_paths.sort()\n",
    "        for image_path in image_paths:\n",
    "            all_image_paths.append(image_path)\n",
    "        \n",
    "\n",
    "    print(f\"Total number of face images: {len(all_image_paths)}\")\n",
    "\n",
    "    train_data = all_image_paths[:-2000]\n",
    "    valid_data = all_image_paths[-2000:]\n",
    "\n",
    "    print(f\"Total number of training image: {len(train_data)}\")\n",
    "    print(f\"Total number of validation image: {len(valid_data)}\")\n",
    "    return train_data, valid_data"
   ]
  },
  {
   "cell_type": "code",
   "execution_count": 16,
   "metadata": {
    "id": "ubxLkggV0Kjx"
   },
   "outputs": [],
   "source": [
    "# this class prepares the image data to be fed into a nn.\n",
    "class LFWDataset(Dataset):\n",
    "    def __init__(self, data_list, transform):\n",
    "        self.data = data_list\n",
    "        self.transform = transform\n",
    "        \n",
    "    def __len__(self):\n",
    "        return len(self.data)\n",
    "    \n",
    "    def __getitem__(self, index):\n",
    "        image = cv2.imread(self.data[index])\n",
    "        image = cv2.resize(image, (64, 64))\n",
    "        image = cv2.cvtColor(image, cv2.COLOR_BGR2RGB)\n",
    "        image = self.transform(image)\n",
    "        return image"
   ]
  },
  {
   "cell_type": "code",
   "execution_count": 17,
   "metadata": {
    "id": "t0Ap2rmH0KsB"
   },
   "outputs": [],
   "source": [
    "import imageio #for saving reconstruction images as GIF files.\n",
    "from torchvision.utils import save_image"
   ]
  },
  {
   "cell_type": "code",
   "execution_count": 18,
   "metadata": {
    "id": "ZaUMVC5N0K6b"
   },
   "outputs": [],
   "source": [
    "to_pil_image = transforms.ToPILImage()\n",
    "\n",
    "#coverting images to tensors. \n",
    "def transform():\n",
    "    transform = transforms.Compose([\n",
    "            transforms.ToTensor(),\n",
    "        ])\n",
    "    return transform"
   ]
  },
  {
   "cell_type": "code",
   "execution_count": 19,
   "metadata": {
    "id": "UQ-WC3wQ0LCf"
   },
   "outputs": [],
   "source": [
    "# some helper functions for creating GIFs of reconstructed images and plotting the loss.\n",
    "def image_to_vid(images):\n",
    "    imgs = [np.array(to_pil_image(img)) for img in images]\n",
    "    imageio.mimsave('./outputs/generated_images.gif', imgs)\n",
    "def save_reconstructed_images(recon_images, epoch):\n",
    "    save_image(recon_images.cpu(), f\"./outputs/output{epoch}.jpg\")\n",
    "def save_loss_plot(train_loss, valid_loss):\n",
    "    plt.figure(figsize=(10, 7))\n",
    "    plt.plot(train_loss, color='orange', label='train loss')\n",
    "    plt.plot(valid_loss, color='red', label='validataion loss')\n",
    "    plt.xlabel('Epochs')\n",
    "    plt.ylabel('Loss')\n",
    "    plt.legend()\n",
    "    plt.savefig('./outputs/loss.jpg')\n",
    "    plt.show()"
   ]
  },
  {
   "cell_type": "code",
   "execution_count": 20,
   "metadata": {
    "id": "CtT1jp_JUrm4"
   },
   "outputs": [],
   "source": [
    "import torch\n",
    "import torch.nn as nn\n",
    "import torch.nn.functional as F\n",
    "init_channels = 64 # initial number of filters\n",
    "image_channels = 3 # color channels\n",
    "latent_dim = 100 # number of features to consider\n",
    "# define a Conv VAE\n",
    "class ConvVAE(nn.Module):\n",
    "    def __init__(self):\n",
    "        super(ConvVAE, self).__init__()\n",
    " \n",
    "        # encoder\n",
    "        self.enc1 = nn.Conv2d(\n",
    "            in_channels=image_channels, out_channels=init_channels, \n",
    "            kernel_size=4, stride=2, padding=2\n",
    "        )\n",
    "        self.enc2 = nn.Conv2d(\n",
    "            in_channels=init_channels, out_channels=init_channels*2, \n",
    "            kernel_size=4, stride=2, padding=2\n",
    "        )\n",
    "        self.enc3 = nn.Conv2d(\n",
    "            in_channels=init_channels*2, out_channels=init_channels*4, \n",
    "            kernel_size=4, stride=2, padding=2\n",
    "        )\n",
    "        self.enc4 = nn.Conv2d(\n",
    "            in_channels=init_channels*4, out_channels=init_channels*8, \n",
    "            kernel_size=4, stride=2, padding=2\n",
    "        )\n",
    "        self.enc5 = nn.Conv2d(\n",
    "            in_channels=init_channels*8, out_channels=1024, \n",
    "            kernel_size=4, stride=2, padding=2\n",
    "        )\n",
    "        self.fc1 = nn.Linear(1024, 2048)\n",
    "        self.fc_mu = nn.Linear(2048, latent_dim)\n",
    "        self.fc_log_var = nn.Linear(2048, latent_dim)\n",
    "        self.fc2 = nn.Linear(latent_dim, 1024)\n",
    "        # decoder \n",
    "        self.dec1 = nn.ConvTranspose2d(\n",
    "            in_channels=1024, out_channels=init_channels*8, \n",
    "            kernel_size=3, stride=2\n",
    "        )\n",
    "        self.dec2 = nn.ConvTranspose2d(\n",
    "            in_channels=init_channels*8, out_channels=init_channels*4, \n",
    "            kernel_size=3, stride=2\n",
    "        )\n",
    "        self.dec3 = nn.ConvTranspose2d(\n",
    "            in_channels=init_channels*4, out_channels=init_channels*2, \n",
    "            kernel_size=3, stride=2\n",
    "        )\n",
    "        self.dec4 = nn.ConvTranspose2d(\n",
    "            in_channels=init_channels*2, out_channels=init_channels, \n",
    "            kernel_size=3, stride=2\n",
    "        )\n",
    "        self.dec5 = nn.ConvTranspose2d(\n",
    "            in_channels=init_channels, out_channels=image_channels, \n",
    "            kernel_size=4, stride=2\n",
    "        )\n",
    "    def reparameterize(self, mu, log_var):\n",
    "        \"\"\"\n",
    "        :param mu: mean from the encoder's latent space\n",
    "        :param log_var: log variance from the encoder's latent space\n",
    "        \"\"\"\n",
    "        std = torch.exp(0.5*log_var) # standard deviation\n",
    "        eps = torch.randn_like(std) # `randn_like` as we need the same size\n",
    "        sample = mu + (eps * std) # sampling\n",
    "        return sample\n",
    " \n",
    "    def forward(self, x):\n",
    "        # encoding\n",
    "        x = F.relu(self.enc1(x))\n",
    "        x = F.relu(self.enc2(x))\n",
    "        x = F.relu(self.enc3(x))\n",
    "        x = F.relu(self.enc4(x))\n",
    "        x = F.relu(self.enc5(x))\n",
    "        batch, _, _, _ = x.shape\n",
    "        x = F.adaptive_avg_pool2d(x, 1).reshape(batch, -1)\n",
    "        hidden = self.fc1(x)\n",
    "        # get `mu` and `log_var`\n",
    "        mu = self.fc_mu(hidden)\n",
    "        log_var = self.fc_log_var(hidden)\n",
    "        # get the latent vector through reparameterization\n",
    "        z = self.reparameterize(mu, log_var)\n",
    "        z = self.fc2(z)\n",
    "        z = z.view(-1, 1024, 1, 1)\n",
    " \n",
    "        # decoding\n",
    "        x = F.relu(self.dec1(z))\n",
    "        x = F.relu(self.dec2(x))\n",
    "        x = F.relu(self.dec3(x))\n",
    "        x = F.relu(self.dec4(x))\n",
    "        reconstruction = torch.sigmoid(self.dec5(x))\n",
    "        return reconstruction, mu, log_var"
   ]
  },
  {
   "cell_type": "code",
   "execution_count": 21,
   "metadata": {
    "id": "Hmi87pFUU9fS"
   },
   "outputs": [],
   "source": [
    "#The loss function\n",
    "def final_loss(bce_loss, mu, logvar):\n",
    "    \"\"\"\n",
    "    This function will add the reconstruction loss (BCELoss) and the \n",
    "    KL-Divergence.\n",
    "    KL-Divergence = 0.5 * sum(1 + log(sigma^2) - mu^2 - sigma^2)\n",
    "\n",
    "    :param bce_loss: recontruction loss\n",
    "    :param mu: the mean from the latent vector\n",
    "    :param logvar: log variance from the latent vector\n",
    "    \"\"\"\n",
    "    BCE = bce_loss \n",
    "    KLD = -0.5 * torch.sum(1 + logvar - mu.pow(2) - logvar.exp())\n",
    "\n",
    "    return BCE + KLD "
   ]
  },
  {
   "cell_type": "code",
   "execution_count": 22,
   "metadata": {
    "id": "22BXzPFOXjof"
   },
   "outputs": [],
   "source": [
    "# the training function\n",
    "def train(model, dataloader, dataset, device, optimizer, criterion):\n",
    "    model.train()\n",
    "    running_loss = 0.0\n",
    "    counter = 0\n",
    "    for i, data in tqdm(enumerate(dataloader), total=int(len(dataset)/dataloader.batch_size)):\n",
    "        counter += 1\n",
    "        data = data\n",
    "        data = data.to(device)\n",
    "        optimizer.zero_grad()\n",
    "        reconstruction, mu, logvar = model(data)\n",
    "        bce_loss = criterion(reconstruction, data)\n",
    "        loss = final_loss(bce_loss, mu, logvar)\n",
    "        loss.backward()\n",
    "        running_loss += loss.item()\n",
    "        optimizer.step()\n",
    "    train_loss = running_loss / counter \n",
    "    return train_loss"
   ]
  },
  {
   "cell_type": "code",
   "execution_count": 23,
   "metadata": {
    "id": "2YxmzAtqZ6xG"
   },
   "outputs": [],
   "source": [
    "# The validation function.\n",
    "def validate(model, dataloader, dataset, device, criterion):\n",
    "    model.eval()\n",
    "    running_loss = 0.0\n",
    "    counter = 0\n",
    "    with torch.no_grad():\n",
    "        for i, data in tqdm(enumerate(dataloader), total=int(len(dataset)/dataloader.batch_size)):\n",
    "            counter += 1\n",
    "            data= data\n",
    "            data = data.to(device)\n",
    "            reconstruction, mu, logvar = model(data)\n",
    "            bce_loss = criterion(reconstruction, data)\n",
    "            loss = final_loss(bce_loss, mu, logvar)\n",
    "            running_loss += loss.item()\n",
    "        \n",
    "            # save the last batch input and output of every epoch\n",
    "            if i == int(len(dataset)/dataloader.batch_size) - 1:\n",
    "                recon_images = reconstruction\n",
    "    val_loss = running_loss / counter\n",
    "    return val_loss, recon_images"
   ]
  },
  {
   "cell_type": "code",
   "execution_count": 24,
   "metadata": {
    "id": "aMgbfqqGZ8fN"
   },
   "outputs": [
    {
     "data": {
      "text/plain": [
       "device(type='cuda')"
      ]
     },
     "execution_count": 24,
     "metadata": {},
     "output_type": "execute_result"
    }
   ],
   "source": [
    "matplotlib.style.use('ggplot')\n",
    "# define the computation device\n",
    "device = torch.device('cuda' if torch.cuda.is_available() else 'cpu')\n",
    "# a list to save all the reconstructed images in PyTorch grid format\n",
    "grid_images = []\n",
    "device"
   ]
  },
  {
   "cell_type": "code",
   "execution_count": 25,
   "metadata": {
    "id": "7W1igmx6amN7"
   },
   "outputs": [],
   "source": [
    "# initialize the model\n",
    "model = ConvVAE().to(device)\n",
    "# define the learning parameters\n",
    "lr = 0.0001\n",
    "epochs = 75\n",
    "batch_size = 64\n",
    "optimizer = optim.Adam(model.parameters(), lr=lr)\n",
    "criterion = nn.BCELoss(reduction='sum')"
   ]
  },
  {
   "cell_type": "code",
   "execution_count": 26,
   "metadata": {
    "colab": {
     "base_uri": "https://localhost:8080/"
    },
    "id": "4E5J9c6paneQ",
    "outputId": "02cc569b-d10a-4509-fe68-b3dea62feca1"
   },
   "outputs": [
    {
     "name": "stdout",
     "output_type": "stream",
     "text": [
      "599\n",
      "['117930a8f2e37f9b707cdefe012d0353', '11c4b7e1843657b2ee93c6b133692f1b', '11d3fc4092e616a7a6fee8e2140acec9', '11d9817e65d7ead6b87028a4b477349f', '12838414141e59219a2d92ec05f8de08']\n"
     ]
    },
    {
     "name": "stderr",
     "output_type": "stream",
     "text": [
      "100%|███████████████████████████████████████████████████████████████████████████████| 599/599 [00:01<00:00, 383.59it/s]"
     ]
    },
    {
     "name": "stdout",
     "output_type": "stream",
     "text": [
      "Total number of face images: 37138\n",
      "Total number of training image: 35138\n",
      "Total number of validation image: 2000\n"
     ]
    },
    {
     "name": "stderr",
     "output_type": "stream",
     "text": [
      "\n"
     ]
    }
   ],
   "source": [
    "# initialize the transform\n",
    "transform = transform()\n",
    "# prepare the training and validation data loaders\n",
    "train_data, valid_data = prepare_dataset(ROOT_PATH)\n",
    "trainset = LFWDataset(train_data, transform=transform)\n",
    "trainloader = DataLoader(trainset, batch_size=batch_size, shuffle=True)\n",
    "validset = LFWDataset(valid_data, transform=transform)\n",
    "validloader = DataLoader(validset, batch_size=batch_size)"
   ]
  },
  {
   "cell_type": "code",
   "execution_count": 32,
   "metadata": {
    "colab": {
     "base_uri": "https://localhost:8080/",
     "height": 449
    },
    "id": "njat2Bhqa4mp",
    "outputId": "9e98ec0e-87e5-42f5-ecc8-88731a724ace"
   },
   "outputs": [
    {
     "name": "stdout",
     "output_type": "stream",
     "text": [
      "Epoch 1 of 75\n"
     ]
    },
    {
     "name": "stderr",
     "output_type": "stream",
     "text": [
      "550it [02:09,  4.25it/s]                                                                                               \n",
      "32it [00:07,  4.40it/s]                                                                                                \n"
     ]
    },
    {
     "name": "stdout",
     "output_type": "stream",
     "text": [
      "Train Loss: 90665.2573\n",
      "Val Loss: 57595.9276\n",
      "Epoch 2 of 75\n"
     ]
    },
    {
     "name": "stderr",
     "output_type": "stream",
     "text": [
      "550it [02:06,  4.34it/s]                                                                                               \n",
      "32it [00:06,  4.73it/s]                                                                                                \n"
     ]
    },
    {
     "name": "stdout",
     "output_type": "stream",
     "text": [
      "Train Loss: 55212.7790\n",
      "Val Loss: 53738.6167\n",
      "Epoch 3 of 75\n"
     ]
    },
    {
     "name": "stderr",
     "output_type": "stream",
     "text": [
      "550it [02:05,  4.38it/s]                                                                                               \n",
      "32it [00:06,  4.73it/s]                                                                                                \n"
     ]
    },
    {
     "name": "stdout",
     "output_type": "stream",
     "text": [
      "Train Loss: 50810.0564\n",
      "Val Loss: 47839.4030\n",
      "Epoch 4 of 75\n"
     ]
    },
    {
     "name": "stderr",
     "output_type": "stream",
     "text": [
      "550it [02:04,  4.41it/s]                                                                                               \n",
      "32it [00:06,  4.74it/s]                                                                                                \n"
     ]
    },
    {
     "name": "stdout",
     "output_type": "stream",
     "text": [
      "Train Loss: 44742.8622\n",
      "Val Loss: 42495.4072\n",
      "Epoch 5 of 75\n"
     ]
    },
    {
     "name": "stderr",
     "output_type": "stream",
     "text": [
      "550it [02:05,  4.38it/s]                                                                                               \n",
      "32it [00:06,  4.76it/s]                                                                                                \n"
     ]
    },
    {
     "name": "stdout",
     "output_type": "stream",
     "text": [
      "Train Loss: 40957.5053\n",
      "Val Loss: 40050.5645\n",
      "Epoch 6 of 75\n"
     ]
    },
    {
     "name": "stderr",
     "output_type": "stream",
     "text": [
      "550it [02:05,  4.39it/s]                                                                                               \n",
      "32it [00:06,  4.68it/s]                                                                                                \n"
     ]
    },
    {
     "name": "stdout",
     "output_type": "stream",
     "text": [
      "Train Loss: 39239.4552\n",
      "Val Loss: 38910.1073\n",
      "Epoch 7 of 75\n"
     ]
    },
    {
     "name": "stderr",
     "output_type": "stream",
     "text": [
      "550it [02:05,  4.40it/s]                                                                                               \n",
      "32it [00:06,  4.74it/s]                                                                                                \n"
     ]
    },
    {
     "name": "stdout",
     "output_type": "stream",
     "text": [
      "Train Loss: 37647.3249\n",
      "Val Loss: 36546.9049\n",
      "Epoch 8 of 75\n"
     ]
    },
    {
     "name": "stderr",
     "output_type": "stream",
     "text": [
      "550it [02:03,  4.45it/s]                                                                                               \n",
      "32it [00:06,  4.76it/s]                                                                                                \n"
     ]
    },
    {
     "name": "stdout",
     "output_type": "stream",
     "text": [
      "Train Loss: 35483.1791\n",
      "Val Loss: 34625.3930\n",
      "Epoch 9 of 75\n"
     ]
    },
    {
     "name": "stderr",
     "output_type": "stream",
     "text": [
      "550it [02:04,  4.44it/s]                                                                                               \n",
      "32it [00:06,  4.78it/s]                                                                                                \n"
     ]
    },
    {
     "name": "stdout",
     "output_type": "stream",
     "text": [
      "Train Loss: 34239.9979\n",
      "Val Loss: 33871.4862\n",
      "Epoch 10 of 75\n"
     ]
    },
    {
     "name": "stderr",
     "output_type": "stream",
     "text": [
      "550it [02:04,  4.43it/s]                                                                                               \n",
      "32it [00:06,  4.83it/s]                                                                                                \n"
     ]
    },
    {
     "name": "stdout",
     "output_type": "stream",
     "text": [
      "Train Loss: 33426.4426\n",
      "Val Loss: 32811.4872\n",
      "Epoch 11 of 75\n"
     ]
    },
    {
     "name": "stderr",
     "output_type": "stream",
     "text": [
      "550it [02:03,  4.44it/s]                                                                                               \n",
      "32it [00:06,  4.77it/s]                                                                                                \n"
     ]
    },
    {
     "name": "stdout",
     "output_type": "stream",
     "text": [
      "Train Loss: 32558.9126\n",
      "Val Loss: 31967.3909\n",
      "Epoch 12 of 75\n"
     ]
    },
    {
     "name": "stderr",
     "output_type": "stream",
     "text": [
      "550it [02:03,  4.46it/s]                                                                                               \n",
      "32it [00:06,  4.82it/s]                                                                                                \n"
     ]
    },
    {
     "name": "stdout",
     "output_type": "stream",
     "text": [
      "Train Loss: 31957.4997\n",
      "Val Loss: 31435.7764\n",
      "Epoch 13 of 75\n"
     ]
    },
    {
     "name": "stderr",
     "output_type": "stream",
     "text": [
      "550it [02:04,  4.43it/s]                                                                                               \n",
      "32it [00:06,  4.74it/s]                                                                                                \n"
     ]
    },
    {
     "name": "stdout",
     "output_type": "stream",
     "text": [
      "Train Loss: 31504.2764\n",
      "Val Loss: 31196.7081\n",
      "Epoch 14 of 75\n"
     ]
    },
    {
     "name": "stderr",
     "output_type": "stream",
     "text": [
      "550it [02:04,  4.41it/s]                                                                                               \n",
      "32it [00:06,  4.72it/s]                                                                                                \n"
     ]
    },
    {
     "name": "stdout",
     "output_type": "stream",
     "text": [
      "Train Loss: 31107.6264\n",
      "Val Loss: 30865.9228\n",
      "Epoch 15 of 75\n"
     ]
    },
    {
     "name": "stderr",
     "output_type": "stream",
     "text": [
      "550it [02:04,  4.42it/s]                                                                                               \n",
      "32it [00:06,  4.87it/s]                                                                                                \n"
     ]
    },
    {
     "name": "stdout",
     "output_type": "stream",
     "text": [
      "Train Loss: 30801.2923\n",
      "Val Loss: 30612.5165\n",
      "Epoch 16 of 75\n"
     ]
    },
    {
     "name": "stderr",
     "output_type": "stream",
     "text": [
      "550it [02:02,  4.49it/s]                                                                                               \n",
      "32it [00:06,  4.75it/s]                                                                                                \n"
     ]
    },
    {
     "name": "stdout",
     "output_type": "stream",
     "text": [
      "Train Loss: 30506.3767\n",
      "Val Loss: 30246.4108\n",
      "Epoch 17 of 75\n"
     ]
    },
    {
     "name": "stderr",
     "output_type": "stream",
     "text": [
      "550it [02:04,  4.41it/s]                                                                                               \n",
      "32it [00:06,  4.76it/s]                                                                                                \n"
     ]
    },
    {
     "name": "stdout",
     "output_type": "stream",
     "text": [
      "Train Loss: 30157.5563\n",
      "Val Loss: 29762.6581\n",
      "Epoch 18 of 75\n"
     ]
    },
    {
     "name": "stderr",
     "output_type": "stream",
     "text": [
      "550it [02:05,  4.39it/s]                                                                                               \n",
      "32it [00:06,  4.75it/s]                                                                                                \n"
     ]
    },
    {
     "name": "stdout",
     "output_type": "stream",
     "text": [
      "Train Loss: 29721.0895\n",
      "Val Loss: 29135.7886\n",
      "Epoch 19 of 75\n"
     ]
    },
    {
     "name": "stderr",
     "output_type": "stream",
     "text": [
      "550it [02:03,  4.46it/s]                                                                                               \n",
      "32it [00:06,  4.79it/s]                                                                                                \n"
     ]
    },
    {
     "name": "stdout",
     "output_type": "stream",
     "text": [
      "Train Loss: 29450.9857\n",
      "Val Loss: 29120.9259\n",
      "Epoch 20 of 75\n"
     ]
    },
    {
     "name": "stderr",
     "output_type": "stream",
     "text": [
      "550it [02:04,  4.41it/s]                                                                                               \n",
      "32it [00:06,  4.78it/s]                                                                                                \n"
     ]
    },
    {
     "name": "stdout",
     "output_type": "stream",
     "text": [
      "Train Loss: 29203.9127\n",
      "Val Loss: 28861.8118\n",
      "Epoch 21 of 75\n"
     ]
    },
    {
     "name": "stderr",
     "output_type": "stream",
     "text": [
      "550it [02:03,  4.44it/s]                                                                                               \n",
      "32it [00:06,  4.90it/s]                                                                                                \n"
     ]
    },
    {
     "name": "stdout",
     "output_type": "stream",
     "text": [
      "Train Loss: 29009.5724\n",
      "Val Loss: 28656.8939\n",
      "Epoch 22 of 75\n"
     ]
    },
    {
     "name": "stderr",
     "output_type": "stream",
     "text": [
      "550it [02:03,  4.45it/s]                                                                                               \n",
      "32it [00:06,  4.80it/s]                                                                                                \n"
     ]
    },
    {
     "name": "stdout",
     "output_type": "stream",
     "text": [
      "Train Loss: 28812.9407\n",
      "Val Loss: 28649.1096\n",
      "Epoch 23 of 75\n"
     ]
    },
    {
     "name": "stderr",
     "output_type": "stream",
     "text": [
      "550it [02:03,  4.44it/s]                                                                                               \n",
      "32it [00:06,  4.90it/s]                                                                                                \n"
     ]
    },
    {
     "name": "stdout",
     "output_type": "stream",
     "text": [
      "Train Loss: 28657.7207\n",
      "Val Loss: 28470.5774\n",
      "Epoch 24 of 75\n"
     ]
    },
    {
     "name": "stderr",
     "output_type": "stream",
     "text": [
      "550it [02:09,  4.25it/s]                                                                                               \n",
      "32it [00:06,  4.76it/s]                                                                                                \n"
     ]
    },
    {
     "name": "stdout",
     "output_type": "stream",
     "text": [
      "Train Loss: 28456.0415\n",
      "Val Loss: 28260.5943\n",
      "Epoch 25 of 75\n"
     ]
    },
    {
     "name": "stderr",
     "output_type": "stream",
     "text": [
      "550it [02:04,  4.41it/s]                                                                                               \n",
      "32it [00:06,  4.74it/s]                                                                                                \n"
     ]
    },
    {
     "name": "stdout",
     "output_type": "stream",
     "text": [
      "Train Loss: 28252.9882\n",
      "Val Loss: 28128.1361\n",
      "Epoch 26 of 75\n"
     ]
    },
    {
     "name": "stderr",
     "output_type": "stream",
     "text": [
      "550it [02:05,  4.38it/s]                                                                                               \n",
      "32it [00:06,  4.69it/s]                                                                                                \n"
     ]
    },
    {
     "name": "stdout",
     "output_type": "stream",
     "text": [
      "Train Loss: 28079.6443\n",
      "Val Loss: 28241.8559\n",
      "Epoch 27 of 75\n"
     ]
    },
    {
     "name": "stderr",
     "output_type": "stream",
     "text": [
      "550it [02:04,  4.41it/s]                                                                                               \n",
      "32it [00:06,  4.62it/s]                                                                                                \n"
     ]
    },
    {
     "name": "stdout",
     "output_type": "stream",
     "text": [
      "Train Loss: 27940.5439\n",
      "Val Loss: 27915.7103\n",
      "Epoch 28 of 75\n"
     ]
    },
    {
     "name": "stderr",
     "output_type": "stream",
     "text": [
      "550it [02:04,  4.42it/s]                                                                                               \n",
      "32it [00:06,  4.78it/s]                                                                                                \n"
     ]
    },
    {
     "name": "stdout",
     "output_type": "stream",
     "text": [
      "Train Loss: 27795.3245\n",
      "Val Loss: 27910.5640\n",
      "Epoch 29 of 75\n"
     ]
    },
    {
     "name": "stderr",
     "output_type": "stream",
     "text": [
      "550it [02:02,  4.50it/s]                                                                                               \n",
      "32it [00:06,  4.86it/s]                                                                                                \n"
     ]
    },
    {
     "name": "stdout",
     "output_type": "stream",
     "text": [
      "Train Loss: 27670.6053\n",
      "Val Loss: 27754.1926\n",
      "Epoch 30 of 75\n"
     ]
    },
    {
     "name": "stderr",
     "output_type": "stream",
     "text": [
      "550it [02:02,  4.50it/s]                                                                                               \n",
      "32it [00:06,  4.85it/s]                                                                                                \n"
     ]
    },
    {
     "name": "stdout",
     "output_type": "stream",
     "text": [
      "Train Loss: 27539.7686\n",
      "Val Loss: 27602.4017\n",
      "Epoch 31 of 75\n"
     ]
    },
    {
     "name": "stderr",
     "output_type": "stream",
     "text": [
      "550it [02:01,  4.51it/s]                                                                                               \n",
      "32it [00:06,  4.89it/s]                                                                                                \n"
     ]
    },
    {
     "name": "stdout",
     "output_type": "stream",
     "text": [
      "Train Loss: 27428.8139\n",
      "Val Loss: 27769.1624\n",
      "Epoch 32 of 75\n"
     ]
    },
    {
     "name": "stderr",
     "output_type": "stream",
     "text": [
      "550it [02:04,  4.40it/s]                                                                                               \n",
      "32it [00:06,  4.67it/s]                                                                                                \n"
     ]
    },
    {
     "name": "stdout",
     "output_type": "stream",
     "text": [
      "Train Loss: 27339.1656\n",
      "Val Loss: 27802.7473\n",
      "Epoch 33 of 75\n"
     ]
    },
    {
     "name": "stderr",
     "output_type": "stream",
     "text": [
      "550it [02:04,  4.40it/s]                                                                                               \n",
      "32it [00:06,  4.80it/s]                                                                                                \n"
     ]
    },
    {
     "name": "stdout",
     "output_type": "stream",
     "text": [
      "Train Loss: 27211.2857\n",
      "Val Loss: 27509.1907\n",
      "Epoch 34 of 75\n"
     ]
    },
    {
     "name": "stderr",
     "output_type": "stream",
     "text": [
      "550it [02:09,  4.25it/s]                                                                                               \n",
      "32it [00:06,  4.73it/s]                                                                                                \n"
     ]
    },
    {
     "name": "stdout",
     "output_type": "stream",
     "text": [
      "Train Loss: 27116.0832\n",
      "Val Loss: 27779.3071\n",
      "Epoch 35 of 75\n"
     ]
    },
    {
     "name": "stderr",
     "output_type": "stream",
     "text": [
      "550it [02:05,  4.38it/s]                                                                                               \n",
      "32it [00:06,  4.72it/s]                                                                                                \n"
     ]
    },
    {
     "name": "stdout",
     "output_type": "stream",
     "text": [
      "Train Loss: 27026.3550\n",
      "Val Loss: 27712.1471\n",
      "Epoch 36 of 75\n"
     ]
    },
    {
     "name": "stderr",
     "output_type": "stream",
     "text": [
      "550it [02:05,  4.38it/s]                                                                                               \n",
      "32it [00:06,  4.71it/s]                                                                                                \n"
     ]
    },
    {
     "name": "stdout",
     "output_type": "stream",
     "text": [
      "Train Loss: 26929.7492\n",
      "Val Loss: 27659.8910\n",
      "Epoch 37 of 75\n"
     ]
    },
    {
     "name": "stderr",
     "output_type": "stream",
     "text": [
      "550it [02:05,  4.40it/s]                                                                                               \n",
      "32it [00:06,  4.83it/s]                                                                                                \n"
     ]
    },
    {
     "name": "stdout",
     "output_type": "stream",
     "text": [
      "Train Loss: 26840.8266\n",
      "Val Loss: 27578.5949\n",
      "Epoch 38 of 75\n"
     ]
    },
    {
     "name": "stderr",
     "output_type": "stream",
     "text": [
      "550it [02:04,  4.40it/s]                                                                                               \n",
      "32it [00:06,  4.75it/s]                                                                                                \n"
     ]
    },
    {
     "name": "stdout",
     "output_type": "stream",
     "text": [
      "Train Loss: 26738.5288\n",
      "Val Loss: 27640.1122\n",
      "Epoch 39 of 75\n"
     ]
    },
    {
     "name": "stderr",
     "output_type": "stream",
     "text": [
      "550it [02:03,  4.45it/s]                                                                                               \n",
      "32it [00:06,  4.75it/s]                                                                                                \n"
     ]
    },
    {
     "name": "stdout",
     "output_type": "stream",
     "text": [
      "Train Loss: 26668.6344\n",
      "Val Loss: 27615.8598\n",
      "Epoch 40 of 75\n"
     ]
    },
    {
     "name": "stderr",
     "output_type": "stream",
     "text": [
      "550it [02:04,  4.42it/s]                                                                                               \n",
      "32it [00:06,  4.76it/s]                                                                                                \n"
     ]
    },
    {
     "name": "stdout",
     "output_type": "stream",
     "text": [
      "Train Loss: 26594.5959\n",
      "Val Loss: 27781.9193\n",
      "Epoch 41 of 75\n"
     ]
    },
    {
     "name": "stderr",
     "output_type": "stream",
     "text": [
      "550it [02:01,  4.52it/s]                                                                                               \n",
      "32it [00:06,  4.90it/s]                                                                                                \n"
     ]
    },
    {
     "name": "stdout",
     "output_type": "stream",
     "text": [
      "Train Loss: 26493.1534\n",
      "Val Loss: 27539.6989\n",
      "Epoch 42 of 75\n"
     ]
    },
    {
     "name": "stderr",
     "output_type": "stream",
     "text": [
      "550it [02:02,  4.49it/s]                                                                                               \n",
      "32it [00:06,  4.74it/s]                                                                                                \n"
     ]
    },
    {
     "name": "stdout",
     "output_type": "stream",
     "text": [
      "Train Loss: 26415.9125\n",
      "Val Loss: 27528.2331\n",
      "Epoch 43 of 75\n"
     ]
    },
    {
     "name": "stderr",
     "output_type": "stream",
     "text": [
      "550it [02:03,  4.46it/s]                                                                                               \n",
      "32it [00:06,  4.88it/s]                                                                                                \n"
     ]
    },
    {
     "name": "stdout",
     "output_type": "stream",
     "text": [
      "Train Loss: 26336.7636\n",
      "Val Loss: 27597.6153\n",
      "Epoch 44 of 75\n"
     ]
    },
    {
     "name": "stderr",
     "output_type": "stream",
     "text": [
      "550it [02:01,  4.52it/s]                                                                                               \n",
      "32it [00:06,  4.87it/s]                                                                                                \n"
     ]
    },
    {
     "name": "stdout",
     "output_type": "stream",
     "text": [
      "Train Loss: 26269.2912\n",
      "Val Loss: 27532.9874\n",
      "Epoch 45 of 75\n"
     ]
    },
    {
     "name": "stderr",
     "output_type": "stream",
     "text": [
      "550it [02:08,  4.27it/s]                                                                                               \n",
      "32it [00:06,  4.77it/s]                                                                                                \n"
     ]
    },
    {
     "name": "stdout",
     "output_type": "stream",
     "text": [
      "Train Loss: 26188.7570\n",
      "Val Loss: 27589.6959\n",
      "Epoch 46 of 75\n"
     ]
    },
    {
     "name": "stderr",
     "output_type": "stream",
     "text": [
      "550it [02:04,  4.41it/s]                                                                                               \n",
      "32it [00:06,  4.76it/s]                                                                                                \n"
     ]
    },
    {
     "name": "stdout",
     "output_type": "stream",
     "text": [
      "Train Loss: 26114.9300\n",
      "Val Loss: 27581.8056\n",
      "Epoch 47 of 75\n"
     ]
    },
    {
     "name": "stderr",
     "output_type": "stream",
     "text": [
      "550it [02:05,  4.37it/s]                                                                                               \n",
      "32it [00:06,  4.82it/s]                                                                                                \n"
     ]
    },
    {
     "name": "stdout",
     "output_type": "stream",
     "text": [
      "Train Loss: 26041.6051\n",
      "Val Loss: 27551.3457\n",
      "Epoch 48 of 75\n"
     ]
    },
    {
     "name": "stderr",
     "output_type": "stream",
     "text": [
      "550it [02:02,  4.50it/s]                                                                                               \n",
      "32it [00:06,  4.90it/s]                                                                                                \n"
     ]
    },
    {
     "name": "stdout",
     "output_type": "stream",
     "text": [
      "Train Loss: 25975.7107\n",
      "Val Loss: 27540.2957\n",
      "Epoch 49 of 75\n"
     ]
    },
    {
     "name": "stderr",
     "output_type": "stream",
     "text": [
      "550it [02:03,  4.44it/s]                                                                                               \n",
      "32it [00:06,  4.69it/s]                                                                                                \n"
     ]
    },
    {
     "name": "stdout",
     "output_type": "stream",
     "text": [
      "Train Loss: 25920.5131\n",
      "Val Loss: 27474.4615\n",
      "Epoch 50 of 75\n"
     ]
    },
    {
     "name": "stderr",
     "output_type": "stream",
     "text": [
      "550it [02:03,  4.45it/s]                                                                                               \n",
      "32it [00:06,  4.90it/s]                                                                                                \n"
     ]
    },
    {
     "name": "stdout",
     "output_type": "stream",
     "text": [
      "Train Loss: 25847.3487\n",
      "Val Loss: 27606.7918\n",
      "Epoch 51 of 75\n"
     ]
    },
    {
     "name": "stderr",
     "output_type": "stream",
     "text": [
      "550it [02:02,  4.49it/s]                                                                                               \n",
      "32it [00:06,  4.91it/s]                                                                                                \n"
     ]
    },
    {
     "name": "stdout",
     "output_type": "stream",
     "text": [
      "Train Loss: 25776.6985\n",
      "Val Loss: 27439.0576\n",
      "Epoch 52 of 75\n"
     ]
    },
    {
     "name": "stderr",
     "output_type": "stream",
     "text": [
      "550it [02:01,  4.52it/s]                                                                                               \n",
      "32it [00:06,  4.87it/s]                                                                                                \n"
     ]
    },
    {
     "name": "stdout",
     "output_type": "stream",
     "text": [
      "Train Loss: 25721.1375\n",
      "Val Loss: 27418.7785\n",
      "Epoch 53 of 75\n"
     ]
    },
    {
     "name": "stderr",
     "output_type": "stream",
     "text": [
      "550it [02:01,  4.51it/s]                                                                                               \n",
      "32it [00:06,  4.85it/s]                                                                                                \n"
     ]
    },
    {
     "name": "stdout",
     "output_type": "stream",
     "text": [
      "Train Loss: 25634.2436\n",
      "Val Loss: 27709.5193\n",
      "Epoch 54 of 75\n"
     ]
    },
    {
     "name": "stderr",
     "output_type": "stream",
     "text": [
      "550it [02:01,  4.51it/s]                                                                                               \n",
      "32it [00:06,  4.89it/s]                                                                                                \n"
     ]
    },
    {
     "name": "stdout",
     "output_type": "stream",
     "text": [
      "Train Loss: 25583.5474\n",
      "Val Loss: 27746.0737\n",
      "Epoch 55 of 75\n"
     ]
    },
    {
     "name": "stderr",
     "output_type": "stream",
     "text": [
      "550it [02:03,  4.45it/s]                                                                                               \n",
      "32it [00:06,  4.86it/s]                                                                                                \n"
     ]
    },
    {
     "name": "stdout",
     "output_type": "stream",
     "text": [
      "Train Loss: 25524.9046\n",
      "Val Loss: 27619.1534\n",
      "Epoch 56 of 75\n"
     ]
    },
    {
     "name": "stderr",
     "output_type": "stream",
     "text": [
      "550it [02:03,  4.47it/s]                                                                                               \n",
      "32it [00:06,  4.78it/s]                                                                                                \n"
     ]
    },
    {
     "name": "stdout",
     "output_type": "stream",
     "text": [
      "Train Loss: 25448.7430\n",
      "Val Loss: 27570.7409\n",
      "Epoch 57 of 75\n"
     ]
    },
    {
     "name": "stderr",
     "output_type": "stream",
     "text": [
      "550it [02:09,  4.25it/s]                                                                                               \n",
      "32it [00:06,  4.67it/s]                                                                                                \n"
     ]
    },
    {
     "name": "stdout",
     "output_type": "stream",
     "text": [
      "Train Loss: 25393.8994\n",
      "Val Loss: 27505.5331\n",
      "Epoch 58 of 75\n"
     ]
    },
    {
     "name": "stderr",
     "output_type": "stream",
     "text": [
      "550it [02:05,  4.40it/s]                                                                                               \n",
      "32it [00:06,  4.72it/s]                                                                                                \n"
     ]
    },
    {
     "name": "stdout",
     "output_type": "stream",
     "text": [
      "Train Loss: 25344.7820\n",
      "Val Loss: 27576.5701\n",
      "Epoch 59 of 75\n"
     ]
    },
    {
     "name": "stderr",
     "output_type": "stream",
     "text": [
      "550it [02:05,  4.39it/s]                                                                                               \n",
      "32it [00:06,  4.79it/s]                                                                                                \n"
     ]
    },
    {
     "name": "stdout",
     "output_type": "stream",
     "text": [
      "Train Loss: 25286.6921\n",
      "Val Loss: 27655.5338\n",
      "Epoch 60 of 75\n"
     ]
    },
    {
     "name": "stderr",
     "output_type": "stream",
     "text": [
      "550it [02:04,  4.42it/s]                                                                                               \n",
      "32it [00:06,  4.87it/s]                                                                                                \n"
     ]
    },
    {
     "name": "stdout",
     "output_type": "stream",
     "text": [
      "Train Loss: 25222.4783\n",
      "Val Loss: 27784.8783\n",
      "Epoch 61 of 75\n"
     ]
    },
    {
     "name": "stderr",
     "output_type": "stream",
     "text": [
      "550it [02:04,  4.42it/s]                                                                                               \n",
      "32it [00:06,  4.76it/s]                                                                                                \n"
     ]
    },
    {
     "name": "stdout",
     "output_type": "stream",
     "text": [
      "Train Loss: 25183.3422\n",
      "Val Loss: 27777.7005\n",
      "Epoch 62 of 75\n"
     ]
    },
    {
     "name": "stderr",
     "output_type": "stream",
     "text": [
      "550it [02:05,  4.38it/s]                                                                                               \n",
      "32it [00:06,  4.81it/s]                                                                                                \n"
     ]
    },
    {
     "name": "stdout",
     "output_type": "stream",
     "text": [
      "Train Loss: 25120.0296\n",
      "Val Loss: 27838.7423\n",
      "Epoch 63 of 75\n"
     ]
    },
    {
     "name": "stderr",
     "output_type": "stream",
     "text": [
      "550it [02:03,  4.44it/s]                                                                                               \n",
      "32it [00:06,  4.82it/s]                                                                                                \n"
     ]
    },
    {
     "name": "stdout",
     "output_type": "stream",
     "text": [
      "Train Loss: 25068.0573\n",
      "Val Loss: 27631.9631\n",
      "Epoch 64 of 75\n"
     ]
    },
    {
     "name": "stderr",
     "output_type": "stream",
     "text": [
      "550it [02:03,  4.46it/s]                                                                                               \n",
      "32it [00:06,  4.86it/s]                                                                                                \n"
     ]
    },
    {
     "name": "stdout",
     "output_type": "stream",
     "text": [
      "Train Loss: 25006.6229\n",
      "Val Loss: 27932.1619\n",
      "Epoch 65 of 75\n"
     ]
    },
    {
     "name": "stderr",
     "output_type": "stream",
     "text": [
      "550it [02:05,  4.37it/s]                                                                                               \n",
      "32it [00:06,  4.73it/s]                                                                                                \n"
     ]
    },
    {
     "name": "stdout",
     "output_type": "stream",
     "text": [
      "Train Loss: 24944.4212\n",
      "Val Loss: 27799.4681\n",
      "Epoch 66 of 75\n"
     ]
    },
    {
     "name": "stderr",
     "output_type": "stream",
     "text": [
      "550it [02:04,  4.44it/s]                                                                                               \n",
      "32it [00:06,  4.79it/s]                                                                                                \n"
     ]
    },
    {
     "name": "stdout",
     "output_type": "stream",
     "text": [
      "Train Loss: 24895.9410\n",
      "Val Loss: 27747.5147\n",
      "Epoch 67 of 75\n"
     ]
    },
    {
     "name": "stderr",
     "output_type": "stream",
     "text": [
      "550it [02:06,  4.35it/s]                                                                                               \n",
      "32it [00:06,  4.77it/s]                                                                                                \n"
     ]
    },
    {
     "name": "stdout",
     "output_type": "stream",
     "text": [
      "Train Loss: 24833.0984\n",
      "Val Loss: 27734.3021\n",
      "Epoch 68 of 75\n"
     ]
    },
    {
     "name": "stderr",
     "output_type": "stream",
     "text": [
      "550it [02:03,  4.46it/s]                                                                                               \n",
      "32it [00:06,  4.87it/s]                                                                                                \n"
     ]
    },
    {
     "name": "stdout",
     "output_type": "stream",
     "text": [
      "Train Loss: 24761.4950\n",
      "Val Loss: 27601.4752\n",
      "Epoch 69 of 75\n"
     ]
    },
    {
     "name": "stderr",
     "output_type": "stream",
     "text": [
      "550it [02:04,  4.41it/s]                                                                                               \n",
      "32it [00:06,  4.85it/s]                                                                                                \n"
     ]
    },
    {
     "name": "stdout",
     "output_type": "stream",
     "text": [
      "Train Loss: 24711.7749\n",
      "Val Loss: 27737.6918\n",
      "Epoch 70 of 75\n"
     ]
    },
    {
     "name": "stderr",
     "output_type": "stream",
     "text": [
      "550it [02:04,  4.43it/s]                                                                                               \n",
      "32it [00:06,  4.70it/s]                                                                                                \n"
     ]
    },
    {
     "name": "stdout",
     "output_type": "stream",
     "text": [
      "Train Loss: 24652.8021\n",
      "Val Loss: 27775.3136\n",
      "Epoch 71 of 75\n"
     ]
    },
    {
     "name": "stderr",
     "output_type": "stream",
     "text": [
      "550it [02:05,  4.39it/s]                                                                                               \n",
      "32it [00:06,  4.75it/s]                                                                                                \n"
     ]
    },
    {
     "name": "stdout",
     "output_type": "stream",
     "text": [
      "Train Loss: 24605.5572\n",
      "Val Loss: 27828.6822\n",
      "Epoch 72 of 75\n"
     ]
    },
    {
     "name": "stderr",
     "output_type": "stream",
     "text": [
      "550it [02:04,  4.41it/s]                                                                                               \n",
      "32it [00:06,  4.76it/s]                                                                                                \n"
     ]
    },
    {
     "name": "stdout",
     "output_type": "stream",
     "text": [
      "Train Loss: 24548.5179\n",
      "Val Loss: 27906.7908\n",
      "Epoch 73 of 75\n"
     ]
    },
    {
     "name": "stderr",
     "output_type": "stream",
     "text": [
      "550it [02:05,  4.39it/s]                                                                                               \n",
      "32it [00:06,  4.71it/s]                                                                                                \n"
     ]
    },
    {
     "name": "stdout",
     "output_type": "stream",
     "text": [
      "Train Loss: 24510.0174\n",
      "Val Loss: 27842.3916\n",
      "Epoch 74 of 75\n"
     ]
    },
    {
     "name": "stderr",
     "output_type": "stream",
     "text": [
      "550it [02:05,  4.39it/s]                                                                                               \n",
      "32it [00:06,  4.69it/s]                                                                                                \n"
     ]
    },
    {
     "name": "stdout",
     "output_type": "stream",
     "text": [
      "Train Loss: 24458.6239\n",
      "Val Loss: 27834.9159\n",
      "Epoch 75 of 75\n"
     ]
    },
    {
     "name": "stderr",
     "output_type": "stream",
     "text": [
      "550it [02:06,  4.36it/s]                                                                                               \n",
      "32it [00:06,  4.72it/s]                                                                                                "
     ]
    },
    {
     "name": "stdout",
     "output_type": "stream",
     "text": [
      "Train Loss: 24409.3778\n",
      "Val Loss: 28076.7893\n"
     ]
    },
    {
     "name": "stderr",
     "output_type": "stream",
     "text": [
      "\n"
     ]
    }
   ],
   "source": [
    "train_loss = []\n",
    "valid_loss = []\n",
    "for epoch in range(epochs):\n",
    "    print(f\"Epoch {epoch+1} of {epochs}\")\n",
    "    train_epoch_loss = train(\n",
    "        model, trainloader, trainset, device, optimizer, criterion\n",
    "    )\n",
    "    valid_epoch_loss, recon_images = validate(\n",
    "        model, validloader, validset, device, criterion\n",
    "    )\n",
    "    train_loss.append(train_epoch_loss)\n",
    "    valid_loss.append(valid_epoch_loss)\n",
    "    # save the reconstructed images from the validation loop\n",
    "    save_reconstructed_images(recon_images, epoch+1)\n",
    "    # convert the reconstructed images to PyTorch image grid format\n",
    "    image_grid = make_grid(recon_images.detach().cpu())\n",
    "    grid_images.append(image_grid)\n",
    "    print(f\"Train Loss: {train_epoch_loss:.4f}\")\n",
    "    print(f\"Val Loss: {valid_epoch_loss:.4f}\")"
   ]
  },
  {
   "cell_type": "code",
   "execution_count": 11,
   "metadata": {
    "id": "j_axq9rhcsoP"
   },
   "outputs": [
    {
     "ename": "SyntaxError",
     "evalue": "invalid non-printable character U+00A0 (1984324086.py, line 3)",
     "output_type": "error",
     "traceback": [
      "\u001b[1;36m  File \u001b[1;32m\"C:\\Users\\Gaurav\\AppData\\Local\\Temp\\ipykernel_22428\\1984324086.py\"\u001b[1;36m, line \u001b[1;32m3\u001b[0m\n\u001b[1;33m    images = []\u001b[0m\n\u001b[1;37m          ^\u001b[0m\n\u001b[1;31mSyntaxError\u001b[0m\u001b[1;31m:\u001b[0m invalid non-printable character U+00A0\n"
     ]
    }
   ],
   "source": [
    "# Generating the video\n",
    "\n",
    "images = []\n",
    "files = glob.glob (\"./outputs/*.jpg\")\n",
    "for myFile in files:\n",
    "    print(myFile)\n",
    "    image = cv2.imread (myFile)\n",
    "    images.append(image)\n",
    "\n",
    "image_to_vid(images)"
   ]
  },
  {
   "cell_type": "code",
   "execution_count": 12,
   "metadata": {},
   "outputs": [
    {
     "ename": "SyntaxError",
     "evalue": "invalid non-printable character U+00A0 (688244474.py, line 3)",
     "output_type": "error",
     "traceback": [
      "\u001b[1;36m  File \u001b[1;32m\"C:\\Users\\Gaurav\\AppData\\Local\\Temp\\ipykernel_22428\\688244474.py\"\u001b[1;36m, line \u001b[1;32m3\u001b[0m\n\u001b[1;33m    save_loss_plot(train_loss, valid_loss)\u001b[0m\n\u001b[1;37m                              ^\u001b[0m\n\u001b[1;31mSyntaxError\u001b[0m\u001b[1;31m:\u001b[0m invalid non-printable character U+00A0\n"
     ]
    }
   ],
   "source": [
    "# plotting the loss\n",
    "\n",
    "save_loss_plot(train_loss, valid_loss)"
   ]
  },
  {
   "cell_type": "code",
   "execution_count": null,
   "metadata": {},
   "outputs": [],
   "source": [
    "# generating images on new instances.\n",
    "\n",
    "# TEST_ROOT_PATH = 'test_path'\n",
    "# test_data = prepare_dataset(TEST_ROOT_PATH)\n",
    "# testset = LFWDataset(test_data, transform=transform)\n",
    "# testloader = DataLoader(testset, batch_size=batch_size, shuffle=True)\n",
    "\n",
    "\n",
    "\n",
    "for data in trainloader:\n",
    "  rec, _, _ = model(data)\n",
    "  save_test_reconstructed_images()\n",
    "  print(rec.shape)\n",
    "  plt.imshow(\n",
    "  break"
   ]
  }
 ],
 "metadata": {
  "accelerator": "GPU",
  "colab": {
   "provenance": []
  },
  "gpuClass": "standard",
  "kernelspec": {
   "display_name": "Python 3 (ipykernel)",
   "language": "python",
   "name": "python3"
  },
  "language_info": {
   "codemirror_mode": {
    "name": "ipython",
    "version": 3
   },
   "file_extension": ".py",
   "mimetype": "text/x-python",
   "name": "python",
   "nbconvert_exporter": "python",
   "pygments_lexer": "ipython3",
   "version": "3.9.7"
  }
 },
 "nbformat": 4,
 "nbformat_minor": 1
}
